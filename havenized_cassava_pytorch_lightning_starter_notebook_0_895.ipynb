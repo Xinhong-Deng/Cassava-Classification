{
  "nbformat": 4,
  "nbformat_minor": 0,
  "metadata": {
    "kernelspec": {
      "display_name": "Python 3",
      "language": "python",
      "name": "python3"
    },
    "language_info": {
      "codemirror_mode": {
        "name": "ipython",
        "version": 3
      },
      "file_extension": ".py",
      "mimetype": "text/x-python",
      "name": "python",
      "nbconvert_exporter": "python",
      "pygments_lexer": "ipython3",
      "version": "3.7.6"
    },
    "papermill": {
      "duration": 31.745414,
      "end_time": "2021-01-05T21:16:31.876666",
      "environment_variables": {},
      "exception": null,
      "input_path": "__notebook__.ipynb",
      "output_path": "__notebook__.ipynb",
      "parameters": {},
      "start_time": "2021-01-05T21:16:00.131252",
      "version": "2.1.0"
    },
    "colab": {
      "name": "havenized-cassava-pytorch-lightning-starter-notebook-0-895.ipynb",
      "provenance": [],
      "collapsed_sections": [],
      "toc_visible": true,
      "include_colab_link": true
    }
  },
  "cells": [
    {
      "cell_type": "markdown",
      "metadata": {
        "id": "view-in-github",
        "colab_type": "text"
      },
      "source": [
        "<a href=\"https://colab.research.google.com/github/Xinhong-Deng/Cassava-Classification/blob/main/havenized_cassava_pytorch_lightning_starter_notebook_0_895.ipynb\" target=\"_parent\"><img src=\"https://colab.research.google.com/assets/colab-badge.svg\" alt=\"Open In Colab\"/></a>"
      ]
    },
    {
      "cell_type": "markdown",
      "metadata": {
        "papermill": {
          "duration": 0.011783,
          "end_time": "2021-01-05T21:16:04.110641",
          "exception": false,
          "start_time": "2021-01-05T21:16:04.098858",
          "status": "completed"
        },
        "tags": [],
        "id": "tWhqG2QkZtQB"
      },
      "source": [
        "## Motivation \n",
        "\n",
        "Cassava is a starchy root vegetable which is staple food in Africa. Almost 80% of the farms grow these plants. But yields are generally poor due to viral diseases. It's crucial to detect these diseases early on to curb the spread.\n",
        "\n",
        "## Goal\n",
        "\n",
        "We have to identify correct category for each image out of 5 classes. There are 4 diseased categories and 1 healthy category\n",
        "\n",
        "* Cassava Bacterial Blight (CBB),\n",
        "* Cassava Brown Streak Disease (CBSD),\n",
        "* Cassava Green Mottle (CGM),\n",
        "* Cassava Mosaic Disease (CMD),\n",
        "* Healthy"
      ]
    },
    {
      "cell_type": "markdown",
      "metadata": {
        "papermill": {
          "duration": 0.010462,
          "end_time": "2021-01-05T21:16:04.131920",
          "exception": false,
          "start_time": "2021-01-05T21:16:04.121458",
          "status": "completed"
        },
        "tags": [],
        "id": "uiGjZ4V7ZtQN"
      },
      "source": [
        "In this notebook , I am creating a solution in PyTorch and PyTorch Lightning. PyTorch lightning is a way of organizing your PyTorch code. When the code is organised in simple lightning modules than we can easily use a lot of advanced features like \n",
        "\n",
        "- Mixed Precision\n",
        "- GPU/ Multi GPU/ TPU\n",
        "- Gradient Accumulation\n",
        "- Gradient Clipping\n",
        "- Moving tensors to/from GPU\n",
        "- Logging \n",
        "\n",
        "The entire solution is structured in a way that allows us to run multiple experiments with different models, image sizes, batch sizes and other commonly used hyper parameters easily. \n",
        "\n",
        "\n",
        "If you prefer coding in editors like visual studio, you can download entire code from my github repo over [here](https://github.com/svishnu88/Cassava)."
      ]
    },
    {
      "cell_type": "markdown",
      "metadata": {
        "papermill": {
          "duration": 0.010295,
          "end_time": "2021-01-05T21:16:04.152767",
          "exception": false,
          "start_time": "2021-01-05T21:16:04.142472",
          "status": "completed"
        },
        "tags": [],
        "id": "Jt8P25hVZtQN"
      },
      "source": [
        "## Import the libraries"
      ]
    },
    {
      "cell_type": "code",
      "metadata": {
        "_cell_guid": "b1076dfc-b9ad-4769-8c92-a6c4dae69d19",
        "_kg_hide-input": true,
        "_kg_hide-output": true,
        "_uuid": "8f2839f25d086af736a60e9eeb907d3b93b6e0e5",
        "execution": {
          "iopub.execute_input": "2021-01-05T21:16:04.184615Z",
          "iopub.status.busy": "2021-01-05T21:16:04.184035Z",
          "iopub.status.idle": "2021-01-05T21:16:08.574608Z",
          "shell.execute_reply": "2021-01-05T21:16:08.575211Z"
        },
        "papermill": {
          "duration": 4.412102,
          "end_time": "2021-01-05T21:16:08.575418",
          "exception": false,
          "start_time": "2021-01-05T21:16:04.163316",
          "status": "completed"
        },
        "tags": [],
        "id": "BtRm5r6dZtQO"
      },
      "source": [
        "import numpy as np # linear algebra\n",
        "import pandas as pd # data processing, CSV file I/O (e.g. pd.read_csv)\n",
        "import os\n",
        "import sys\n",
        "from typing import Tuple\n",
        "import PIL\n",
        "from torch.utils.data import Dataset\n",
        "from pathlib import Path\n",
        "from PIL import Image\n",
        "from PIL.Image import Image as PILImage\n",
        "from torch.utils.data.dataloader import DataLoader\n",
        "import numpy as np\n",
        "import pandas as pd\n",
        "from pytorch_lightning import LightningDataModule\n",
        "from sklearn.model_selection import train_test_split, StratifiedKFold\n",
        "import albumentations as A\n",
        "from albumentations.pytorch.transforms import ToTensor\n",
        "\n",
        "from torchvision import models\n",
        "import torch.nn as nn\n",
        "import torch\n",
        "import torch.nn.functional as F\n",
        "import pytorch_lightning as pl\n",
        "from torch import optim\n",
        "from pytorch_lightning.callbacks import LearningRateMonitor, ModelCheckpoint\n",
        "\n",
        "sys.path.append('../input/geneffnet/gen-efficientnet-pytorch-master')\n",
        "\n",
        "import geffnet\n",
        "\n",
        "path = Path(\"/kaggle/input/cassava-leaf-disease-classification/\")"
      ],
      "execution_count": null,
      "outputs": []
    },
    {
      "cell_type": "markdown",
      "metadata": {
        "papermill": {
          "duration": 0.011409,
          "end_time": "2021-01-05T21:16:08.599248",
          "exception": false,
          "start_time": "2021-01-05T21:16:08.587839",
          "status": "completed"
        },
        "tags": [],
        "id": "KKH5B4REZtQO"
      },
      "source": [
        "## Data Block\n",
        "\n",
        "- Create a Pytorch Dataset.\n",
        "- Create a Pytorch Lightning Data Module block which contains all the code for creating data loaders."
      ]
    },
    {
      "cell_type": "code",
      "metadata": {
        "execution": {
          "iopub.execute_input": "2021-01-05T21:16:08.630066Z",
          "iopub.status.busy": "2021-01-05T21:16:08.629264Z",
          "iopub.status.idle": "2021-01-05T21:16:08.631566Z",
          "shell.execute_reply": "2021-01-05T21:16:08.631976Z"
        },
        "papermill": {
          "duration": 0.022278,
          "end_time": "2021-01-05T21:16:08.632075",
          "exception": false,
          "start_time": "2021-01-05T21:16:08.609797",
          "status": "completed"
        },
        "tags": [],
        "id": "xXzPv5zLZtQP"
      },
      "source": [
        "class CassavaDataset(Dataset):\n",
        "    def __init__(self, path, df, transform=None) -> None:\n",
        "        super().__init__()\n",
        "        self.df = df\n",
        "        self.path = path\n",
        "        self.transform = transform\n",
        "        self.num_workers = 2\n",
        "\n",
        "    def __getitem__(self, index) -> Tuple[PILImage, int]:\n",
        "        img_id, label = self.df.iloc[index]\n",
        "        image = Image.open(self.path / img_id)\n",
        "        image = np.array(image)\n",
        "        if self.transform is not None:\n",
        "            transformed = self.transform(image=image)\n",
        "            image = transformed[\"image\"]\n",
        "        return image, label\n",
        "\n",
        "    def __len__(self):\n",
        "        return self.df.shape[0]"
      ],
      "execution_count": null,
      "outputs": []
    },
    {
      "cell_type": "code",
      "metadata": {
        "execution": {
          "iopub.execute_input": "2021-01-05T21:16:08.666082Z",
          "iopub.status.busy": "2021-01-05T21:16:08.660894Z",
          "iopub.status.idle": "2021-01-05T21:16:08.671231Z",
          "shell.execute_reply": "2021-01-05T21:16:08.670834Z"
        },
        "papermill": {
          "duration": 0.028489,
          "end_time": "2021-01-05T21:16:08.671313",
          "exception": false,
          "start_time": "2021-01-05T21:16:08.642824",
          "status": "completed"
        },
        "tags": [],
        "id": "D2AMhcV-ZtQP"
      },
      "source": [
        "class CassavaDataModule(LightningDataModule):\n",
        "    def __init__(\n",
        "        self,\n",
        "        path: str = None,\n",
        "        aug_p: float = 0.5,\n",
        "        val_pct: float = 0.2,\n",
        "        img_sz: int = 224,\n",
        "        batch_size: int = 64,\n",
        "        num_workers: int = 4,\n",
        "        fold_id: int = 0,\n",
        "    ):\n",
        "        super().__init__()\n",
        "        self.path = Path(path)\n",
        "        self.aug_p = aug_p\n",
        "        self.val_pct = val_pct\n",
        "        self.img_sz = img_sz\n",
        "        self.batch_size = batch_size\n",
        "        self.num_workers = num_workers\n",
        "        self.fold_id = fold_id\n",
        "\n",
        "    def prepare_data(self):\n",
        "        # only called on 1 GPU/TPU in distributed\n",
        "        df = pd.read_csv(self.path / \"train.csv\")\n",
        "        skf = StratifiedKFold(n_splits=5)\n",
        "        t = df.label\n",
        "        train_index, valid_index = list(skf.split(np.zeros(len(t)), t))[self.fold_id]\n",
        "        train_df = df.loc[train_index]\n",
        "        valid_df = df.loc[valid_index]\n",
        "\n",
        "        train_df.to_pickle(\"train_df.pkl\")\n",
        "        valid_df.to_pickle(\"valid_df.pkl\")\n",
        "        \n",
        "        test_df = pd.read_csv(self.path / \"sample_submission.csv\")\n",
        "        test_df.to_pickle(\"test_df.pkl\")\n",
        "        \n",
        "\n",
        "    def setup(self):\n",
        "        # called on every process in DDP\n",
        "        self.train_transform, self.test_transform = get_augmentations(\n",
        "            p=self.aug_p, image_size=self.img_sz\n",
        "        )\n",
        "        self.train_df = pd.read_pickle(\"train_df.pkl\")\n",
        "        self.valid_df = pd.read_pickle(\"valid_df.pkl\")\n",
        "        self.test_df = pd.read_pickle(\"test_df.pkl\")\n",
        "\n",
        "    def train_dataloader(self):\n",
        "        train_dataset = CassavaDataset(\n",
        "            self.path / \"train_images\", df=self.train_df, transform=self.train_transform\n",
        "        )\n",
        "        return DataLoader(\n",
        "            train_dataset,\n",
        "            batch_size=self.batch_size,\n",
        "            num_workers=self.num_workers,\n",
        "            shuffle=True,\n",
        "            pin_memory=True,\n",
        "        )\n",
        "\n",
        "    def val_dataloader(self):\n",
        "        valid_dataset = CassavaDataset(\n",
        "            self.path / \"train_images\", df=self.valid_df, transform=self.test_transform\n",
        "        )\n",
        "        return DataLoader(\n",
        "            valid_dataset,\n",
        "            batch_size=self.batch_size,\n",
        "            num_workers=self.num_workers,\n",
        "            shuffle=False,\n",
        "            pin_memory=True,\n",
        "        )\n",
        "    \n",
        "    def test_dataloader(self):\n",
        "        test_dataset = CassavaDataset(\n",
        "            self.path / \"test_images\", df=self.test_df, transform=self.test_transform\n",
        "        )\n",
        "        return DataLoader(\n",
        "            test_dataset,\n",
        "            batch_size=self.batch_size,\n",
        "            num_workers=self.num_workers,\n",
        "            shuffle=False,\n",
        "            pin_memory=True,\n",
        "        )"
      ],
      "execution_count": null,
      "outputs": []
    },
    {
      "cell_type": "code",
      "metadata": {
        "execution": {
          "iopub.execute_input": "2021-01-05T21:16:08.698428Z",
          "iopub.status.busy": "2021-01-05T21:16:08.697744Z",
          "iopub.status.idle": "2021-01-05T21:16:08.719652Z",
          "shell.execute_reply": "2021-01-05T21:16:08.719087Z"
        },
        "papermill": {
          "duration": 0.037536,
          "end_time": "2021-01-05T21:16:08.719738",
          "exception": false,
          "start_time": "2021-01-05T21:16:08.682202",
          "status": "completed"
        },
        "tags": [],
        "id": "Ki4pZrqxZtQQ"
      },
      "source": [
        "df = pd.read_csv(path/'train.csv')\n",
        "ds = CassavaDataset(path/'train_images',df=df)"
      ],
      "execution_count": null,
      "outputs": []
    },
    {
      "cell_type": "markdown",
      "metadata": {
        "papermill": {
          "duration": 0.010681,
          "end_time": "2021-01-05T21:16:08.741492",
          "exception": false,
          "start_time": "2021-01-05T21:16:08.730811",
          "status": "completed"
        },
        "tags": [],
        "id": "Pws6L6zAZtQR"
      },
      "source": [
        "## Apply Augmentations\n",
        "\n",
        "We are choosing some transformations from Albumentations library to apply on the dataset, which will give our neural network more information to learn form and become better at predictions. \n",
        "\n",
        "I have not played much with the augmentation pipeline, so the parametes may not be optimized. So tweaking them can improve the model further."
      ]
    },
    {
      "cell_type": "code",
      "metadata": {
        "execution": {
          "iopub.execute_input": "2021-01-05T21:16:08.776239Z",
          "iopub.status.busy": "2021-01-05T21:16:08.775519Z",
          "iopub.status.idle": "2021-01-05T21:16:08.778323Z",
          "shell.execute_reply": "2021-01-05T21:16:08.777908Z"
        },
        "papermill": {
          "duration": 0.026127,
          "end_time": "2021-01-05T21:16:08.778421",
          "exception": false,
          "start_time": "2021-01-05T21:16:08.752294",
          "status": "completed"
        },
        "tags": [],
        "id": "0iuD5vMiZtQR"
      },
      "source": [
        "def get_augmentations(p=0.5, image_size=224):\n",
        "    imagenet_stats = {\"mean\": [0.485, 0.456, 0.406], \"std\": [0.229, 0.224, 0.225]}\n",
        "    train_tfms = A.Compose(\n",
        "        [\n",
        "            # A.Resize(image_size, image_size),\n",
        "            A.RandomResizedCrop(image_size, image_size),\n",
        "            A.ShiftScaleRotate(shift_limit=0.15, scale_limit=0.4, rotate_limit=45, p=p),\n",
        "            A.Cutout(p=p),\n",
        "            A.RandomRotate90(p=p),\n",
        "            A.Flip(p=p),\n",
        "            A.OneOf(\n",
        "                [\n",
        "                    A.RandomBrightnessContrast(\n",
        "                        brightness_limit=0.2,\n",
        "                        contrast_limit=0.2,\n",
        "                    ),\n",
        "                    A.HueSaturationValue(\n",
        "                        hue_shift_limit=20, sat_shift_limit=50, val_shift_limit=50\n",
        "                    ),\n",
        "                ],\n",
        "                p=p,\n",
        "            ),\n",
        "            A.OneOf(\n",
        "                [\n",
        "                    A.IAAAdditiveGaussianNoise(),\n",
        "                    A.GaussNoise(),\n",
        "                ],\n",
        "                p=p,\n",
        "            ),\n",
        "            A.CoarseDropout(max_holes=10, p=p),\n",
        "            A.OneOf(\n",
        "                [\n",
        "                    A.MotionBlur(p=0.2),\n",
        "                    A.MedianBlur(blur_limit=3, p=0.1),\n",
        "                    A.Blur(blur_limit=3, p=0.1),\n",
        "                ],\n",
        "                p=p,\n",
        "            ),\n",
        "            A.OneOf(\n",
        "                [\n",
        "                    A.OpticalDistortion(p=0.3),\n",
        "                    A.GridDistortion(p=0.1),\n",
        "                    A.IAAPiecewiseAffine(p=0.3),\n",
        "                ],\n",
        "                p=p,\n",
        "            ),\n",
        "            ToTensor(normalize=imagenet_stats),\n",
        "        ]\n",
        "    )\n",
        "\n",
        "    valid_tfms = A.Compose(\n",
        "        [A.CenterCrop(image_size, image_size), ToTensor(normalize=imagenet_stats)]\n",
        "    )\n",
        "\n",
        "    return train_tfms, valid_tfms"
      ],
      "execution_count": null,
      "outputs": []
    },
    {
      "cell_type": "markdown",
      "metadata": {
        "papermill": {
          "duration": 0.011074,
          "end_time": "2021-01-05T21:16:08.800433",
          "exception": false,
          "start_time": "2021-01-05T21:16:08.789359",
          "status": "completed"
        },
        "tags": [],
        "id": "jLYx9nLcZtQS"
      },
      "source": [
        "## Create a PyTorch Model\n",
        "- Any Resnet/Resnext model supported by torch hub\n",
        "- Efficientnet models from [geffnet](https://github.com/rwightman/gen-efficientnet-pytorch/tree/master/geffnet)"
      ]
    },
    {
      "cell_type": "code",
      "metadata": {
        "execution": {
          "iopub.execute_input": "2021-01-05T21:16:08.833944Z",
          "iopub.status.busy": "2021-01-05T21:16:08.833135Z",
          "iopub.status.idle": "2021-01-05T21:16:08.835806Z",
          "shell.execute_reply": "2021-01-05T21:16:08.835384Z"
        },
        "papermill": {
          "duration": 0.024443,
          "end_time": "2021-01-05T21:16:08.835888",
          "exception": false,
          "start_time": "2021-01-05T21:16:08.811445",
          "status": "completed"
        },
        "tags": [],
        "id": "BTj75_zWZtQS"
      },
      "source": [
        "ssl_models = [\n",
        "    \"resnet18_ssl\",\n",
        "    \"resnet50_ssl\",\n",
        "    \"resnext50_32x4d_ssl\",\n",
        "    \"resnext101_32x4d_ssl\",\n",
        "    \"resnext101_32x8d_ssl\",\n",
        "    \"resnext101_32x16d_ssl\",\n",
        "]\n",
        "\n",
        "class Resnext(nn.Module):\n",
        "    def __init__(\n",
        "        self,\n",
        "        model_name=\"resnet18_ssl\",\n",
        "        pool_type=F.adaptive_avg_pool2d,\n",
        "        num_classes=1000,\n",
        "        kaggle=False,\n",
        "    ):\n",
        "        super().__init__()\n",
        "        self.pool_type = pool_type\n",
        "\n",
        "        if kaggle:\n",
        "            backbone = eval(model_name)()\n",
        "        else:\n",
        "            backbone = torch.hub.load(\n",
        "                \"facebookresearch/semi-supervised-ImageNet1K-models\", model_name\n",
        "            )\n",
        "        list(backbone.children())[:-2]\n",
        "        self.backbone = nn.Sequential(*list(backbone.children())[:-2])\n",
        "        in_features = getattr(backbone, \"fc\").in_features\n",
        "        self.classifier = nn.Linear(in_features, num_classes)\n",
        "\n",
        "    def forward(self, x):\n",
        "        features = self.pool_type(self.backbone(x), 1)\n",
        "        features = features.view(x.size(0), -1)\n",
        "        return self.classifier(features)\n",
        "\n",
        "\n",
        "def get_efficientnet(model_name, pretrained=True, num_classes=5):\n",
        "    model = geffnet.create_model(model_name, pretrained=pretrained)\n",
        "    model.classifier = nn.Linear(model.classifier.in_features, num_classes)\n",
        "    return model"
      ],
      "execution_count": null,
      "outputs": []
    },
    {
      "cell_type": "markdown",
      "metadata": {
        "papermill": {
          "duration": 0.011187,
          "end_time": "2021-01-05T21:16:08.858168",
          "exception": false,
          "start_time": "2021-01-05T21:16:08.846981",
          "status": "completed"
        },
        "tags": [],
        "id": "r8Y7dQARZtQS"
      },
      "source": [
        "## Pytorch Lightning Module\n",
        "Create a Pytorch Lightning Module where we write the essential parts of our training pipeline like\n",
        "\n",
        "- training step\n",
        "- validation step\n",
        "- choose optimizer\n",
        "- choose scheduler \n",
        "- do any logging as required"
      ]
    },
    {
      "cell_type": "code",
      "metadata": {
        "execution": {
          "iopub.execute_input": "2021-01-05T21:16:08.894317Z",
          "iopub.status.busy": "2021-01-05T21:16:08.893473Z",
          "iopub.status.idle": "2021-01-05T21:16:08.896812Z",
          "shell.execute_reply": "2021-01-05T21:16:08.896369Z"
        },
        "papermill": {
          "duration": 0.027378,
          "end_time": "2021-01-05T21:16:08.896895",
          "exception": false,
          "start_time": "2021-01-05T21:16:08.869517",
          "status": "completed"
        },
        "tags": [],
        "id": "JAR29QANZtQT"
      },
      "source": [
        "class CassavaModel(pl.LightningModule):\n",
        "    def __init__(\n",
        "        self,\n",
        "        model_name: str = None,\n",
        "        num_classes: int = None,\n",
        "        data_path: Path = None,\n",
        "        loss_fn=F.cross_entropy,\n",
        "        lr=1e-4,\n",
        "        wd=1e-6,\n",
        "    ):\n",
        "        super().__init__()\n",
        "\n",
        "        if model_name.find(\"res\") > -1:\n",
        "            self.model = Resnext(model_name=model_name, num_classes=num_classes)\n",
        "        elif model_name.find(\"effi\") > -1:\n",
        "            self.model = get_efficientnet(model_name)\n",
        "        self.data_path = data_path\n",
        "        self.loss_fn = loss_fn\n",
        "        self.lr = lr\n",
        "        self.accuracy = pl.metrics.Accuracy()\n",
        "        self.wd = wd\n",
        "\n",
        "    def forward(self, x):\n",
        "        return self.model(x)\n",
        "\n",
        "    def training_step(self, batch, batch_idx):\n",
        "        x, y, _ = batch\n",
        "        y_hat = self(x)\n",
        "        loss = self.loss_fn(y_hat, y)\n",
        "        self.log(\"train_loss\", loss, prog_bar=True)\n",
        "        return loss\n",
        "\n",
        "    def validation_step(self, batch, batch_idx):\n",
        "        x, y, _ = batch\n",
        "        y_hat = self(x)\n",
        "        loss = self.loss_fn(y_hat, y)\n",
        "        self.log(\"valid_loss\", loss, prog_bar=True)\n",
        "        self.log(\"val_acc\", self.accuracy(y_hat, y), prog_bar=True)\n",
        "        \n",
        "    def test_step(self, batch, batch_idx):\n",
        "        x, y, img_id = batch\n",
        "        y_hat = self(x)\n",
        "        self.log(\"test_acc\", self.accuracy(y_hat, y), prog_bar=True)\n",
        "        \n",
        "        print(y_hat)\n",
        "        _, pred = torch.max(y_hat, 1)\n",
        "        return img_id, pred\n",
        "    \n",
        "    def test_epoch_end(self, test_step_outputs):\n",
        "        results = \"\"\n",
        "        for img_id, pred in test_step_outputs:\n",
        "            results += \"%s,%d\\n\" % (\"\".join(img_id), pred)\n",
        "        \n",
        "        path = \"submission.csv\"\n",
        "        if not os.path.exists(path):\n",
        "            with open(path, \"a\") as f:\n",
        "                f.write(\"image_id,label\\n\")\n",
        "                \n",
        "        with open(path, \"a\") as f:\n",
        "            f.write(results)\n",
        "\n",
        "    def configure_optimizers(self):\n",
        "        optimizer = optim.AdamW(\n",
        "            self.model.parameters(), lr=self.lr, weight_decay=self.wd\n",
        "        )\n",
        "        scheduler = optim.lr_scheduler.CosineAnnealingLR(\n",
        "            optimizer, self.trainer.max_epochs, 0\n",
        "        )\n",
        "\n",
        "        return [optimizer], [scheduler]"
      ],
      "execution_count": null,
      "outputs": []
    },
    {
      "cell_type": "markdown",
      "metadata": {
        "papermill": {
          "duration": 0.011237,
          "end_time": "2021-01-05T21:16:08.919376",
          "exception": false,
          "start_time": "2021-01-05T21:16:08.908139",
          "status": "completed"
        },
        "tags": [],
        "id": "74pRR4L3ZtQT"
      },
      "source": [
        "## Train the model"
      ]
    },
    {
      "cell_type": "code",
      "metadata": {
        "execution": {
          "iopub.execute_input": "2021-01-05T21:16:08.947561Z",
          "iopub.status.busy": "2021-01-05T21:16:08.946828Z",
          "iopub.status.idle": "2021-01-05T21:16:08.949027Z",
          "shell.execute_reply": "2021-01-05T21:16:08.949551Z"
        },
        "papermill": {
          "duration": 0.018951,
          "end_time": "2021-01-05T21:16:08.949648",
          "exception": false,
          "start_time": "2021-01-05T21:16:08.930697",
          "status": "completed"
        },
        "tags": [],
        "id": "rsZbJLdYZtQU"
      },
      "source": [
        "fold_id = 0\n",
        "aug_p = 0.5\n",
        "img_sz= 224\n",
        "batch_size = 64\n",
        "num_workers = 4\n",
        "num_classes = 5\n",
        "loss_fn = F.cross_entropy\n",
        "lr = 1e-4\n",
        "epochs = 1\n",
        "gradient_clip_val = 0.1\n",
        "precision = 16\n",
        "model_name=ssl_models[2]"
      ],
      "execution_count": null,
      "outputs": []
    },
    {
      "cell_type": "code",
      "metadata": {
        "execution": {
          "iopub.execute_input": "2021-01-05T21:16:08.978608Z",
          "iopub.status.busy": "2021-01-05T21:16:08.977685Z",
          "iopub.status.idle": "2021-01-05T21:16:09.164710Z",
          "shell.execute_reply": "2021-01-05T21:16:09.164220Z"
        },
        "papermill": {
          "duration": 0.203396,
          "end_time": "2021-01-05T21:16:09.164813",
          "exception": false,
          "start_time": "2021-01-05T21:16:08.961417",
          "status": "completed"
        },
        "tags": [],
        "id": "KtH7fh0KZtQU"
      },
      "source": [
        "data_module = CassavaDataModule(\n",
        "    path=path,\n",
        "    aug_p=aug_p,\n",
        "    img_sz=img_sz,\n",
        "    batch_size=batch_size,\n",
        "    num_workers=num_workers,\n",
        "    fold_id=fold_id,\n",
        ")\n",
        "data_module.prepare_data()\n",
        "data_module.setup()"
      ],
      "execution_count": null,
      "outputs": []
    },
    {
      "cell_type": "code",
      "metadata": {
        "_kg_hide-output": true,
        "execution": {
          "iopub.execute_input": "2021-01-05T21:16:09.195206Z",
          "iopub.status.busy": "2021-01-05T21:16:09.194440Z",
          "iopub.status.idle": "2021-01-05T21:16:29.460075Z",
          "shell.execute_reply": "2021-01-05T21:16:29.460923Z"
        },
        "papermill": {
          "duration": 20.283746,
          "end_time": "2021-01-05T21:16:29.461065",
          "exception": false,
          "start_time": "2021-01-05T21:16:09.177319",
          "status": "completed"
        },
        "tags": [],
        "id": "2pirn0xNZtQU",
        "outputId": "5eea6555-3d93-4434-df40-ef7ac29b0bbc"
      },
      "source": [
        "model = CassavaModel(\n",
        "    model_name=model_name,\n",
        "    num_classes=num_classes,\n",
        "    data_path=path,\n",
        "    lr=lr,\n",
        "    loss_fn=loss_fn,\n",
        ")"
      ],
      "execution_count": null,
      "outputs": [
        {
          "output_type": "stream",
          "text": [
            "Downloading: \"https://github.com/facebookresearch/semi-supervised-ImageNet1K-models/archive/master.zip\" to /root/.cache/torch/hub/master.zip\n"
          ],
          "name": "stderr"
        },
        {
          "output_type": "error",
          "ename": "URLError",
          "evalue": "<urlopen error [Errno -3] Temporary failure in name resolution>",
          "traceback": [
            "\u001b[0;31m---------------------------------------------------------------------------\u001b[0m",
            "\u001b[0;31mgaierror\u001b[0m                                  Traceback (most recent call last)",
            "\u001b[0;32m/opt/conda/lib/python3.7/urllib/request.py\u001b[0m in \u001b[0;36mdo_open\u001b[0;34m(self, http_class, req, **http_conn_args)\u001b[0m\n\u001b[1;32m   1318\u001b[0m                 h.request(req.get_method(), req.selector, req.data, headers,\n\u001b[0;32m-> 1319\u001b[0;31m                           encode_chunked=req.has_header('Transfer-encoding'))\n\u001b[0m\u001b[1;32m   1320\u001b[0m             \u001b[0;32mexcept\u001b[0m \u001b[0mOSError\u001b[0m \u001b[0;32mas\u001b[0m \u001b[0merr\u001b[0m\u001b[0;34m:\u001b[0m \u001b[0;31m# timeout error\u001b[0m\u001b[0;34m\u001b[0m\u001b[0;34m\u001b[0m\u001b[0m\n",
            "\u001b[0;32m/opt/conda/lib/python3.7/http/client.py\u001b[0m in \u001b[0;36mrequest\u001b[0;34m(self, method, url, body, headers, encode_chunked)\u001b[0m\n\u001b[1;32m   1251\u001b[0m         \u001b[0;34m\"\"\"Send a complete request to the server.\"\"\"\u001b[0m\u001b[0;34m\u001b[0m\u001b[0;34m\u001b[0m\u001b[0m\n\u001b[0;32m-> 1252\u001b[0;31m         \u001b[0mself\u001b[0m\u001b[0;34m.\u001b[0m\u001b[0m_send_request\u001b[0m\u001b[0;34m(\u001b[0m\u001b[0mmethod\u001b[0m\u001b[0;34m,\u001b[0m \u001b[0murl\u001b[0m\u001b[0;34m,\u001b[0m \u001b[0mbody\u001b[0m\u001b[0;34m,\u001b[0m \u001b[0mheaders\u001b[0m\u001b[0;34m,\u001b[0m \u001b[0mencode_chunked\u001b[0m\u001b[0;34m)\u001b[0m\u001b[0;34m\u001b[0m\u001b[0;34m\u001b[0m\u001b[0m\n\u001b[0m\u001b[1;32m   1253\u001b[0m \u001b[0;34m\u001b[0m\u001b[0m\n",
            "\u001b[0;32m/opt/conda/lib/python3.7/http/client.py\u001b[0m in \u001b[0;36m_send_request\u001b[0;34m(self, method, url, body, headers, encode_chunked)\u001b[0m\n\u001b[1;32m   1297\u001b[0m             \u001b[0mbody\u001b[0m \u001b[0;34m=\u001b[0m \u001b[0m_encode\u001b[0m\u001b[0;34m(\u001b[0m\u001b[0mbody\u001b[0m\u001b[0;34m,\u001b[0m \u001b[0;34m'body'\u001b[0m\u001b[0;34m)\u001b[0m\u001b[0;34m\u001b[0m\u001b[0;34m\u001b[0m\u001b[0m\n\u001b[0;32m-> 1298\u001b[0;31m         \u001b[0mself\u001b[0m\u001b[0;34m.\u001b[0m\u001b[0mendheaders\u001b[0m\u001b[0;34m(\u001b[0m\u001b[0mbody\u001b[0m\u001b[0;34m,\u001b[0m \u001b[0mencode_chunked\u001b[0m\u001b[0;34m=\u001b[0m\u001b[0mencode_chunked\u001b[0m\u001b[0;34m)\u001b[0m\u001b[0;34m\u001b[0m\u001b[0;34m\u001b[0m\u001b[0m\n\u001b[0m\u001b[1;32m   1299\u001b[0m \u001b[0;34m\u001b[0m\u001b[0m\n",
            "\u001b[0;32m/opt/conda/lib/python3.7/http/client.py\u001b[0m in \u001b[0;36mendheaders\u001b[0;34m(self, message_body, encode_chunked)\u001b[0m\n\u001b[1;32m   1246\u001b[0m             \u001b[0;32mraise\u001b[0m \u001b[0mCannotSendHeader\u001b[0m\u001b[0;34m(\u001b[0m\u001b[0;34m)\u001b[0m\u001b[0;34m\u001b[0m\u001b[0;34m\u001b[0m\u001b[0m\n\u001b[0;32m-> 1247\u001b[0;31m         \u001b[0mself\u001b[0m\u001b[0;34m.\u001b[0m\u001b[0m_send_output\u001b[0m\u001b[0;34m(\u001b[0m\u001b[0mmessage_body\u001b[0m\u001b[0;34m,\u001b[0m \u001b[0mencode_chunked\u001b[0m\u001b[0;34m=\u001b[0m\u001b[0mencode_chunked\u001b[0m\u001b[0;34m)\u001b[0m\u001b[0;34m\u001b[0m\u001b[0;34m\u001b[0m\u001b[0m\n\u001b[0m\u001b[1;32m   1248\u001b[0m \u001b[0;34m\u001b[0m\u001b[0m\n",
            "\u001b[0;32m/opt/conda/lib/python3.7/http/client.py\u001b[0m in \u001b[0;36m_send_output\u001b[0;34m(self, message_body, encode_chunked)\u001b[0m\n\u001b[1;32m   1025\u001b[0m         \u001b[0;32mdel\u001b[0m \u001b[0mself\u001b[0m\u001b[0;34m.\u001b[0m\u001b[0m_buffer\u001b[0m\u001b[0;34m[\u001b[0m\u001b[0;34m:\u001b[0m\u001b[0;34m]\u001b[0m\u001b[0;34m\u001b[0m\u001b[0;34m\u001b[0m\u001b[0m\n\u001b[0;32m-> 1026\u001b[0;31m         \u001b[0mself\u001b[0m\u001b[0;34m.\u001b[0m\u001b[0msend\u001b[0m\u001b[0;34m(\u001b[0m\u001b[0mmsg\u001b[0m\u001b[0;34m)\u001b[0m\u001b[0;34m\u001b[0m\u001b[0;34m\u001b[0m\u001b[0m\n\u001b[0m\u001b[1;32m   1027\u001b[0m \u001b[0;34m\u001b[0m\u001b[0m\n",
            "\u001b[0;32m/opt/conda/lib/python3.7/http/client.py\u001b[0m in \u001b[0;36msend\u001b[0;34m(self, data)\u001b[0m\n\u001b[1;32m    965\u001b[0m             \u001b[0;32mif\u001b[0m \u001b[0mself\u001b[0m\u001b[0;34m.\u001b[0m\u001b[0mauto_open\u001b[0m\u001b[0;34m:\u001b[0m\u001b[0;34m\u001b[0m\u001b[0;34m\u001b[0m\u001b[0m\n\u001b[0;32m--> 966\u001b[0;31m                 \u001b[0mself\u001b[0m\u001b[0;34m.\u001b[0m\u001b[0mconnect\u001b[0m\u001b[0;34m(\u001b[0m\u001b[0;34m)\u001b[0m\u001b[0;34m\u001b[0m\u001b[0;34m\u001b[0m\u001b[0m\n\u001b[0m\u001b[1;32m    967\u001b[0m             \u001b[0;32melse\u001b[0m\u001b[0;34m:\u001b[0m\u001b[0;34m\u001b[0m\u001b[0;34m\u001b[0m\u001b[0m\n",
            "\u001b[0;32m/opt/conda/lib/python3.7/http/client.py\u001b[0m in \u001b[0;36mconnect\u001b[0;34m(self)\u001b[0m\n\u001b[1;32m   1413\u001b[0m \u001b[0;34m\u001b[0m\u001b[0m\n\u001b[0;32m-> 1414\u001b[0;31m             \u001b[0msuper\u001b[0m\u001b[0;34m(\u001b[0m\u001b[0;34m)\u001b[0m\u001b[0;34m.\u001b[0m\u001b[0mconnect\u001b[0m\u001b[0;34m(\u001b[0m\u001b[0;34m)\u001b[0m\u001b[0;34m\u001b[0m\u001b[0;34m\u001b[0m\u001b[0m\n\u001b[0m\u001b[1;32m   1415\u001b[0m \u001b[0;34m\u001b[0m\u001b[0m\n",
            "\u001b[0;32m/opt/conda/lib/python3.7/http/client.py\u001b[0m in \u001b[0;36mconnect\u001b[0;34m(self)\u001b[0m\n\u001b[1;32m    937\u001b[0m         self.sock = self._create_connection(\n\u001b[0;32m--> 938\u001b[0;31m             (self.host,self.port), self.timeout, self.source_address)\n\u001b[0m\u001b[1;32m    939\u001b[0m         \u001b[0mself\u001b[0m\u001b[0;34m.\u001b[0m\u001b[0msock\u001b[0m\u001b[0;34m.\u001b[0m\u001b[0msetsockopt\u001b[0m\u001b[0;34m(\u001b[0m\u001b[0msocket\u001b[0m\u001b[0;34m.\u001b[0m\u001b[0mIPPROTO_TCP\u001b[0m\u001b[0;34m,\u001b[0m \u001b[0msocket\u001b[0m\u001b[0;34m.\u001b[0m\u001b[0mTCP_NODELAY\u001b[0m\u001b[0;34m,\u001b[0m \u001b[0;36m1\u001b[0m\u001b[0;34m)\u001b[0m\u001b[0;34m\u001b[0m\u001b[0;34m\u001b[0m\u001b[0m\n",
            "\u001b[0;32m/opt/conda/lib/python3.7/socket.py\u001b[0m in \u001b[0;36mcreate_connection\u001b[0;34m(address, timeout, source_address)\u001b[0m\n\u001b[1;32m    706\u001b[0m     \u001b[0merr\u001b[0m \u001b[0;34m=\u001b[0m \u001b[0;32mNone\u001b[0m\u001b[0;34m\u001b[0m\u001b[0;34m\u001b[0m\u001b[0m\n\u001b[0;32m--> 707\u001b[0;31m     \u001b[0;32mfor\u001b[0m \u001b[0mres\u001b[0m \u001b[0;32min\u001b[0m \u001b[0mgetaddrinfo\u001b[0m\u001b[0;34m(\u001b[0m\u001b[0mhost\u001b[0m\u001b[0;34m,\u001b[0m \u001b[0mport\u001b[0m\u001b[0;34m,\u001b[0m \u001b[0;36m0\u001b[0m\u001b[0;34m,\u001b[0m \u001b[0mSOCK_STREAM\u001b[0m\u001b[0;34m)\u001b[0m\u001b[0;34m:\u001b[0m\u001b[0;34m\u001b[0m\u001b[0;34m\u001b[0m\u001b[0m\n\u001b[0m\u001b[1;32m    708\u001b[0m         \u001b[0maf\u001b[0m\u001b[0;34m,\u001b[0m \u001b[0msocktype\u001b[0m\u001b[0;34m,\u001b[0m \u001b[0mproto\u001b[0m\u001b[0;34m,\u001b[0m \u001b[0mcanonname\u001b[0m\u001b[0;34m,\u001b[0m \u001b[0msa\u001b[0m \u001b[0;34m=\u001b[0m \u001b[0mres\u001b[0m\u001b[0;34m\u001b[0m\u001b[0;34m\u001b[0m\u001b[0m\n",
            "\u001b[0;32m/opt/conda/lib/python3.7/socket.py\u001b[0m in \u001b[0;36mgetaddrinfo\u001b[0;34m(host, port, family, type, proto, flags)\u001b[0m\n\u001b[1;32m    751\u001b[0m     \u001b[0maddrlist\u001b[0m \u001b[0;34m=\u001b[0m \u001b[0;34m[\u001b[0m\u001b[0;34m]\u001b[0m\u001b[0;34m\u001b[0m\u001b[0;34m\u001b[0m\u001b[0m\n\u001b[0;32m--> 752\u001b[0;31m     \u001b[0;32mfor\u001b[0m \u001b[0mres\u001b[0m \u001b[0;32min\u001b[0m \u001b[0m_socket\u001b[0m\u001b[0;34m.\u001b[0m\u001b[0mgetaddrinfo\u001b[0m\u001b[0;34m(\u001b[0m\u001b[0mhost\u001b[0m\u001b[0;34m,\u001b[0m \u001b[0mport\u001b[0m\u001b[0;34m,\u001b[0m \u001b[0mfamily\u001b[0m\u001b[0;34m,\u001b[0m \u001b[0mtype\u001b[0m\u001b[0;34m,\u001b[0m \u001b[0mproto\u001b[0m\u001b[0;34m,\u001b[0m \u001b[0mflags\u001b[0m\u001b[0;34m)\u001b[0m\u001b[0;34m:\u001b[0m\u001b[0;34m\u001b[0m\u001b[0;34m\u001b[0m\u001b[0m\n\u001b[0m\u001b[1;32m    753\u001b[0m         \u001b[0maf\u001b[0m\u001b[0;34m,\u001b[0m \u001b[0msocktype\u001b[0m\u001b[0;34m,\u001b[0m \u001b[0mproto\u001b[0m\u001b[0;34m,\u001b[0m \u001b[0mcanonname\u001b[0m\u001b[0;34m,\u001b[0m \u001b[0msa\u001b[0m \u001b[0;34m=\u001b[0m \u001b[0mres\u001b[0m\u001b[0;34m\u001b[0m\u001b[0;34m\u001b[0m\u001b[0m\n",
            "\u001b[0;31mgaierror\u001b[0m: [Errno -3] Temporary failure in name resolution",
            "\nDuring handling of the above exception, another exception occurred:\n",
            "\u001b[0;31mURLError\u001b[0m                                  Traceback (most recent call last)",
            "\u001b[0;32m<ipython-input-10-68aa8e9087ac>\u001b[0m in \u001b[0;36m<module>\u001b[0;34m\u001b[0m\n\u001b[1;32m      4\u001b[0m     \u001b[0mdata_path\u001b[0m\u001b[0;34m=\u001b[0m\u001b[0mpath\u001b[0m\u001b[0;34m,\u001b[0m\u001b[0;34m\u001b[0m\u001b[0;34m\u001b[0m\u001b[0m\n\u001b[1;32m      5\u001b[0m     \u001b[0mlr\u001b[0m\u001b[0;34m=\u001b[0m\u001b[0mlr\u001b[0m\u001b[0;34m,\u001b[0m\u001b[0;34m\u001b[0m\u001b[0;34m\u001b[0m\u001b[0m\n\u001b[0;32m----> 6\u001b[0;31m     \u001b[0mloss_fn\u001b[0m\u001b[0;34m=\u001b[0m\u001b[0mloss_fn\u001b[0m\u001b[0;34m,\u001b[0m\u001b[0;34m\u001b[0m\u001b[0;34m\u001b[0m\u001b[0m\n\u001b[0m\u001b[1;32m      7\u001b[0m )\n",
            "\u001b[0;32m<ipython-input-7-63efefd1b7e8>\u001b[0m in \u001b[0;36m__init__\u001b[0;34m(self, model_name, num_classes, data_path, loss_fn, lr, wd)\u001b[0m\n\u001b[1;32m     12\u001b[0m \u001b[0;34m\u001b[0m\u001b[0m\n\u001b[1;32m     13\u001b[0m         \u001b[0;32mif\u001b[0m \u001b[0mmodel_name\u001b[0m\u001b[0;34m.\u001b[0m\u001b[0mfind\u001b[0m\u001b[0;34m(\u001b[0m\u001b[0;34m\"res\"\u001b[0m\u001b[0;34m)\u001b[0m \u001b[0;34m>\u001b[0m \u001b[0;34m-\u001b[0m\u001b[0;36m1\u001b[0m\u001b[0;34m:\u001b[0m\u001b[0;34m\u001b[0m\u001b[0;34m\u001b[0m\u001b[0m\n\u001b[0;32m---> 14\u001b[0;31m             \u001b[0mself\u001b[0m\u001b[0;34m.\u001b[0m\u001b[0mmodel\u001b[0m \u001b[0;34m=\u001b[0m \u001b[0mResnext\u001b[0m\u001b[0;34m(\u001b[0m\u001b[0mmodel_name\u001b[0m\u001b[0;34m=\u001b[0m\u001b[0mmodel_name\u001b[0m\u001b[0;34m,\u001b[0m \u001b[0mnum_classes\u001b[0m\u001b[0;34m=\u001b[0m\u001b[0mnum_classes\u001b[0m\u001b[0;34m)\u001b[0m\u001b[0;34m\u001b[0m\u001b[0;34m\u001b[0m\u001b[0m\n\u001b[0m\u001b[1;32m     15\u001b[0m         \u001b[0;32melif\u001b[0m \u001b[0mmodel_name\u001b[0m\u001b[0;34m.\u001b[0m\u001b[0mfind\u001b[0m\u001b[0;34m(\u001b[0m\u001b[0;34m\"effi\"\u001b[0m\u001b[0;34m)\u001b[0m \u001b[0;34m>\u001b[0m \u001b[0;34m-\u001b[0m\u001b[0;36m1\u001b[0m\u001b[0;34m:\u001b[0m\u001b[0;34m\u001b[0m\u001b[0;34m\u001b[0m\u001b[0m\n\u001b[1;32m     16\u001b[0m             \u001b[0mself\u001b[0m\u001b[0;34m.\u001b[0m\u001b[0mmodel\u001b[0m \u001b[0;34m=\u001b[0m \u001b[0mget_efficientnet\u001b[0m\u001b[0;34m(\u001b[0m\u001b[0mmodel_name\u001b[0m\u001b[0;34m)\u001b[0m\u001b[0;34m\u001b[0m\u001b[0;34m\u001b[0m\u001b[0m\n",
            "\u001b[0;32m<ipython-input-6-043497fda498>\u001b[0m in \u001b[0;36m__init__\u001b[0;34m(self, model_name, pool_type, num_classes, kaggle)\u001b[0m\n\u001b[1;32m     23\u001b[0m         \u001b[0;32melse\u001b[0m\u001b[0;34m:\u001b[0m\u001b[0;34m\u001b[0m\u001b[0;34m\u001b[0m\u001b[0m\n\u001b[1;32m     24\u001b[0m             backbone = torch.hub.load(\n\u001b[0;32m---> 25\u001b[0;31m                 \u001b[0;34m\"facebookresearch/semi-supervised-ImageNet1K-models\"\u001b[0m\u001b[0;34m,\u001b[0m \u001b[0mmodel_name\u001b[0m\u001b[0;34m\u001b[0m\u001b[0;34m\u001b[0m\u001b[0m\n\u001b[0m\u001b[1;32m     26\u001b[0m             )\n\u001b[1;32m     27\u001b[0m         \u001b[0mlist\u001b[0m\u001b[0;34m(\u001b[0m\u001b[0mbackbone\u001b[0m\u001b[0;34m.\u001b[0m\u001b[0mchildren\u001b[0m\u001b[0;34m(\u001b[0m\u001b[0;34m)\u001b[0m\u001b[0;34m)\u001b[0m\u001b[0;34m[\u001b[0m\u001b[0;34m:\u001b[0m\u001b[0;34m-\u001b[0m\u001b[0;36m2\u001b[0m\u001b[0;34m]\u001b[0m\u001b[0;34m\u001b[0m\u001b[0;34m\u001b[0m\u001b[0m\n",
            "\u001b[0;32m/opt/conda/lib/python3.7/site-packages/torch/hub.py\u001b[0m in \u001b[0;36mload\u001b[0;34m(repo_or_dir, model, *args, **kwargs)\u001b[0m\n\u001b[1;32m    366\u001b[0m \u001b[0;34m\u001b[0m\u001b[0m\n\u001b[1;32m    367\u001b[0m     \u001b[0;32mif\u001b[0m \u001b[0msource\u001b[0m \u001b[0;34m==\u001b[0m \u001b[0;34m'github'\u001b[0m\u001b[0;34m:\u001b[0m\u001b[0;34m\u001b[0m\u001b[0;34m\u001b[0m\u001b[0m\n\u001b[0;32m--> 368\u001b[0;31m         \u001b[0mrepo_or_dir\u001b[0m \u001b[0;34m=\u001b[0m \u001b[0m_get_cache_or_reload\u001b[0m\u001b[0;34m(\u001b[0m\u001b[0mrepo_or_dir\u001b[0m\u001b[0;34m,\u001b[0m \u001b[0mforce_reload\u001b[0m\u001b[0;34m,\u001b[0m \u001b[0mverbose\u001b[0m\u001b[0;34m)\u001b[0m\u001b[0;34m\u001b[0m\u001b[0;34m\u001b[0m\u001b[0m\n\u001b[0m\u001b[1;32m    369\u001b[0m \u001b[0;34m\u001b[0m\u001b[0m\n\u001b[1;32m    370\u001b[0m     \u001b[0mmodel\u001b[0m \u001b[0;34m=\u001b[0m \u001b[0m_load_local\u001b[0m\u001b[0;34m(\u001b[0m\u001b[0mrepo_or_dir\u001b[0m\u001b[0;34m,\u001b[0m \u001b[0mmodel\u001b[0m\u001b[0;34m,\u001b[0m \u001b[0;34m*\u001b[0m\u001b[0margs\u001b[0m\u001b[0;34m,\u001b[0m \u001b[0;34m**\u001b[0m\u001b[0mkwargs\u001b[0m\u001b[0;34m)\u001b[0m\u001b[0;34m\u001b[0m\u001b[0;34m\u001b[0m\u001b[0m\n",
            "\u001b[0;32m/opt/conda/lib/python3.7/site-packages/torch/hub.py\u001b[0m in \u001b[0;36m_get_cache_or_reload\u001b[0;34m(github, force_reload, verbose)\u001b[0m\n\u001b[1;32m    139\u001b[0m         \u001b[0murl\u001b[0m \u001b[0;34m=\u001b[0m \u001b[0m_git_archive_link\u001b[0m\u001b[0;34m(\u001b[0m\u001b[0mrepo_owner\u001b[0m\u001b[0;34m,\u001b[0m \u001b[0mrepo_name\u001b[0m\u001b[0;34m,\u001b[0m \u001b[0mbranch\u001b[0m\u001b[0;34m)\u001b[0m\u001b[0;34m\u001b[0m\u001b[0;34m\u001b[0m\u001b[0m\n\u001b[1;32m    140\u001b[0m         \u001b[0msys\u001b[0m\u001b[0;34m.\u001b[0m\u001b[0mstderr\u001b[0m\u001b[0;34m.\u001b[0m\u001b[0mwrite\u001b[0m\u001b[0;34m(\u001b[0m\u001b[0;34m'Downloading: \\\"{}\\\" to {}\\n'\u001b[0m\u001b[0;34m.\u001b[0m\u001b[0mformat\u001b[0m\u001b[0;34m(\u001b[0m\u001b[0murl\u001b[0m\u001b[0;34m,\u001b[0m \u001b[0mcached_file\u001b[0m\u001b[0;34m)\u001b[0m\u001b[0;34m)\u001b[0m\u001b[0;34m\u001b[0m\u001b[0;34m\u001b[0m\u001b[0m\n\u001b[0;32m--> 141\u001b[0;31m         \u001b[0mdownload_url_to_file\u001b[0m\u001b[0;34m(\u001b[0m\u001b[0murl\u001b[0m\u001b[0;34m,\u001b[0m \u001b[0mcached_file\u001b[0m\u001b[0;34m,\u001b[0m \u001b[0mprogress\u001b[0m\u001b[0;34m=\u001b[0m\u001b[0;32mFalse\u001b[0m\u001b[0;34m)\u001b[0m\u001b[0;34m\u001b[0m\u001b[0;34m\u001b[0m\u001b[0m\n\u001b[0m\u001b[1;32m    142\u001b[0m \u001b[0;34m\u001b[0m\u001b[0m\n\u001b[1;32m    143\u001b[0m         \u001b[0;32mwith\u001b[0m \u001b[0mzipfile\u001b[0m\u001b[0;34m.\u001b[0m\u001b[0mZipFile\u001b[0m\u001b[0;34m(\u001b[0m\u001b[0mcached_file\u001b[0m\u001b[0;34m)\u001b[0m \u001b[0;32mas\u001b[0m \u001b[0mcached_zipfile\u001b[0m\u001b[0;34m:\u001b[0m\u001b[0;34m\u001b[0m\u001b[0;34m\u001b[0m\u001b[0m\n",
            "\u001b[0;32m/opt/conda/lib/python3.7/site-packages/torch/hub.py\u001b[0m in \u001b[0;36mdownload_url_to_file\u001b[0;34m(url, dst, hash_prefix, progress)\u001b[0m\n\u001b[1;32m    423\u001b[0m     \u001b[0;31m# certificates in older Python\u001b[0m\u001b[0;34m\u001b[0m\u001b[0;34m\u001b[0m\u001b[0;34m\u001b[0m\u001b[0m\n\u001b[1;32m    424\u001b[0m     \u001b[0mreq\u001b[0m \u001b[0;34m=\u001b[0m \u001b[0mRequest\u001b[0m\u001b[0;34m(\u001b[0m\u001b[0murl\u001b[0m\u001b[0;34m,\u001b[0m \u001b[0mheaders\u001b[0m\u001b[0;34m=\u001b[0m\u001b[0;34m{\u001b[0m\u001b[0;34m\"User-Agent\"\u001b[0m\u001b[0;34m:\u001b[0m \u001b[0;34m\"torch.hub\"\u001b[0m\u001b[0;34m}\u001b[0m\u001b[0;34m)\u001b[0m\u001b[0;34m\u001b[0m\u001b[0;34m\u001b[0m\u001b[0m\n\u001b[0;32m--> 425\u001b[0;31m     \u001b[0mu\u001b[0m \u001b[0;34m=\u001b[0m \u001b[0murlopen\u001b[0m\u001b[0;34m(\u001b[0m\u001b[0mreq\u001b[0m\u001b[0;34m)\u001b[0m\u001b[0;34m\u001b[0m\u001b[0;34m\u001b[0m\u001b[0m\n\u001b[0m\u001b[1;32m    426\u001b[0m     \u001b[0mmeta\u001b[0m \u001b[0;34m=\u001b[0m \u001b[0mu\u001b[0m\u001b[0;34m.\u001b[0m\u001b[0minfo\u001b[0m\u001b[0;34m(\u001b[0m\u001b[0;34m)\u001b[0m\u001b[0;34m\u001b[0m\u001b[0;34m\u001b[0m\u001b[0m\n\u001b[1;32m    427\u001b[0m     \u001b[0;32mif\u001b[0m \u001b[0mhasattr\u001b[0m\u001b[0;34m(\u001b[0m\u001b[0mmeta\u001b[0m\u001b[0;34m,\u001b[0m \u001b[0;34m'getheaders'\u001b[0m\u001b[0;34m)\u001b[0m\u001b[0;34m:\u001b[0m\u001b[0;34m\u001b[0m\u001b[0;34m\u001b[0m\u001b[0m\n",
            "\u001b[0;32m/opt/conda/lib/python3.7/urllib/request.py\u001b[0m in \u001b[0;36murlopen\u001b[0;34m(url, data, timeout, cafile, capath, cadefault, context)\u001b[0m\n\u001b[1;32m    220\u001b[0m     \u001b[0;32melse\u001b[0m\u001b[0;34m:\u001b[0m\u001b[0;34m\u001b[0m\u001b[0;34m\u001b[0m\u001b[0m\n\u001b[1;32m    221\u001b[0m         \u001b[0mopener\u001b[0m \u001b[0;34m=\u001b[0m \u001b[0m_opener\u001b[0m\u001b[0;34m\u001b[0m\u001b[0;34m\u001b[0m\u001b[0m\n\u001b[0;32m--> 222\u001b[0;31m     \u001b[0;32mreturn\u001b[0m \u001b[0mopener\u001b[0m\u001b[0;34m.\u001b[0m\u001b[0mopen\u001b[0m\u001b[0;34m(\u001b[0m\u001b[0murl\u001b[0m\u001b[0;34m,\u001b[0m \u001b[0mdata\u001b[0m\u001b[0;34m,\u001b[0m \u001b[0mtimeout\u001b[0m\u001b[0;34m)\u001b[0m\u001b[0;34m\u001b[0m\u001b[0;34m\u001b[0m\u001b[0m\n\u001b[0m\u001b[1;32m    223\u001b[0m \u001b[0;34m\u001b[0m\u001b[0m\n\u001b[1;32m    224\u001b[0m \u001b[0;32mdef\u001b[0m \u001b[0minstall_opener\u001b[0m\u001b[0;34m(\u001b[0m\u001b[0mopener\u001b[0m\u001b[0;34m)\u001b[0m\u001b[0;34m:\u001b[0m\u001b[0;34m\u001b[0m\u001b[0;34m\u001b[0m\u001b[0m\n",
            "\u001b[0;32m/opt/conda/lib/python3.7/urllib/request.py\u001b[0m in \u001b[0;36mopen\u001b[0;34m(self, fullurl, data, timeout)\u001b[0m\n\u001b[1;32m    523\u001b[0m             \u001b[0mreq\u001b[0m \u001b[0;34m=\u001b[0m \u001b[0mmeth\u001b[0m\u001b[0;34m(\u001b[0m\u001b[0mreq\u001b[0m\u001b[0;34m)\u001b[0m\u001b[0;34m\u001b[0m\u001b[0;34m\u001b[0m\u001b[0m\n\u001b[1;32m    524\u001b[0m \u001b[0;34m\u001b[0m\u001b[0m\n\u001b[0;32m--> 525\u001b[0;31m         \u001b[0mresponse\u001b[0m \u001b[0;34m=\u001b[0m \u001b[0mself\u001b[0m\u001b[0;34m.\u001b[0m\u001b[0m_open\u001b[0m\u001b[0;34m(\u001b[0m\u001b[0mreq\u001b[0m\u001b[0;34m,\u001b[0m \u001b[0mdata\u001b[0m\u001b[0;34m)\u001b[0m\u001b[0;34m\u001b[0m\u001b[0;34m\u001b[0m\u001b[0m\n\u001b[0m\u001b[1;32m    526\u001b[0m \u001b[0;34m\u001b[0m\u001b[0m\n\u001b[1;32m    527\u001b[0m         \u001b[0;31m# post-process response\u001b[0m\u001b[0;34m\u001b[0m\u001b[0;34m\u001b[0m\u001b[0;34m\u001b[0m\u001b[0m\n",
            "\u001b[0;32m/opt/conda/lib/python3.7/urllib/request.py\u001b[0m in \u001b[0;36m_open\u001b[0;34m(self, req, data)\u001b[0m\n\u001b[1;32m    541\u001b[0m         \u001b[0mprotocol\u001b[0m \u001b[0;34m=\u001b[0m \u001b[0mreq\u001b[0m\u001b[0;34m.\u001b[0m\u001b[0mtype\u001b[0m\u001b[0;34m\u001b[0m\u001b[0;34m\u001b[0m\u001b[0m\n\u001b[1;32m    542\u001b[0m         result = self._call_chain(self.handle_open, protocol, protocol +\n\u001b[0;32m--> 543\u001b[0;31m                                   '_open', req)\n\u001b[0m\u001b[1;32m    544\u001b[0m         \u001b[0;32mif\u001b[0m \u001b[0mresult\u001b[0m\u001b[0;34m:\u001b[0m\u001b[0;34m\u001b[0m\u001b[0;34m\u001b[0m\u001b[0m\n\u001b[1;32m    545\u001b[0m             \u001b[0;32mreturn\u001b[0m \u001b[0mresult\u001b[0m\u001b[0;34m\u001b[0m\u001b[0;34m\u001b[0m\u001b[0m\n",
            "\u001b[0;32m/opt/conda/lib/python3.7/urllib/request.py\u001b[0m in \u001b[0;36m_call_chain\u001b[0;34m(self, chain, kind, meth_name, *args)\u001b[0m\n\u001b[1;32m    501\u001b[0m         \u001b[0;32mfor\u001b[0m \u001b[0mhandler\u001b[0m \u001b[0;32min\u001b[0m \u001b[0mhandlers\u001b[0m\u001b[0;34m:\u001b[0m\u001b[0;34m\u001b[0m\u001b[0;34m\u001b[0m\u001b[0m\n\u001b[1;32m    502\u001b[0m             \u001b[0mfunc\u001b[0m \u001b[0;34m=\u001b[0m \u001b[0mgetattr\u001b[0m\u001b[0;34m(\u001b[0m\u001b[0mhandler\u001b[0m\u001b[0;34m,\u001b[0m \u001b[0mmeth_name\u001b[0m\u001b[0;34m)\u001b[0m\u001b[0;34m\u001b[0m\u001b[0;34m\u001b[0m\u001b[0m\n\u001b[0;32m--> 503\u001b[0;31m             \u001b[0mresult\u001b[0m \u001b[0;34m=\u001b[0m \u001b[0mfunc\u001b[0m\u001b[0;34m(\u001b[0m\u001b[0;34m*\u001b[0m\u001b[0margs\u001b[0m\u001b[0;34m)\u001b[0m\u001b[0;34m\u001b[0m\u001b[0;34m\u001b[0m\u001b[0m\n\u001b[0m\u001b[1;32m    504\u001b[0m             \u001b[0;32mif\u001b[0m \u001b[0mresult\u001b[0m \u001b[0;32mis\u001b[0m \u001b[0;32mnot\u001b[0m \u001b[0;32mNone\u001b[0m\u001b[0;34m:\u001b[0m\u001b[0;34m\u001b[0m\u001b[0;34m\u001b[0m\u001b[0m\n\u001b[1;32m    505\u001b[0m                 \u001b[0;32mreturn\u001b[0m \u001b[0mresult\u001b[0m\u001b[0;34m\u001b[0m\u001b[0;34m\u001b[0m\u001b[0m\n",
            "\u001b[0;32m/opt/conda/lib/python3.7/urllib/request.py\u001b[0m in \u001b[0;36mhttps_open\u001b[0;34m(self, req)\u001b[0m\n\u001b[1;32m   1360\u001b[0m         \u001b[0;32mdef\u001b[0m \u001b[0mhttps_open\u001b[0m\u001b[0;34m(\u001b[0m\u001b[0mself\u001b[0m\u001b[0;34m,\u001b[0m \u001b[0mreq\u001b[0m\u001b[0;34m)\u001b[0m\u001b[0;34m:\u001b[0m\u001b[0;34m\u001b[0m\u001b[0;34m\u001b[0m\u001b[0m\n\u001b[1;32m   1361\u001b[0m             return self.do_open(http.client.HTTPSConnection, req,\n\u001b[0;32m-> 1362\u001b[0;31m                 context=self._context, check_hostname=self._check_hostname)\n\u001b[0m\u001b[1;32m   1363\u001b[0m \u001b[0;34m\u001b[0m\u001b[0m\n\u001b[1;32m   1364\u001b[0m         \u001b[0mhttps_request\u001b[0m \u001b[0;34m=\u001b[0m \u001b[0mAbstractHTTPHandler\u001b[0m\u001b[0;34m.\u001b[0m\u001b[0mdo_request_\u001b[0m\u001b[0;34m\u001b[0m\u001b[0;34m\u001b[0m\u001b[0m\n",
            "\u001b[0;32m/opt/conda/lib/python3.7/urllib/request.py\u001b[0m in \u001b[0;36mdo_open\u001b[0;34m(self, http_class, req, **http_conn_args)\u001b[0m\n\u001b[1;32m   1319\u001b[0m                           encode_chunked=req.has_header('Transfer-encoding'))\n\u001b[1;32m   1320\u001b[0m             \u001b[0;32mexcept\u001b[0m \u001b[0mOSError\u001b[0m \u001b[0;32mas\u001b[0m \u001b[0merr\u001b[0m\u001b[0;34m:\u001b[0m \u001b[0;31m# timeout error\u001b[0m\u001b[0;34m\u001b[0m\u001b[0;34m\u001b[0m\u001b[0m\n\u001b[0;32m-> 1321\u001b[0;31m                 \u001b[0;32mraise\u001b[0m \u001b[0mURLError\u001b[0m\u001b[0;34m(\u001b[0m\u001b[0merr\u001b[0m\u001b[0;34m)\u001b[0m\u001b[0;34m\u001b[0m\u001b[0;34m\u001b[0m\u001b[0m\n\u001b[0m\u001b[1;32m   1322\u001b[0m             \u001b[0mr\u001b[0m \u001b[0;34m=\u001b[0m \u001b[0mh\u001b[0m\u001b[0;34m.\u001b[0m\u001b[0mgetresponse\u001b[0m\u001b[0;34m(\u001b[0m\u001b[0;34m)\u001b[0m\u001b[0;34m\u001b[0m\u001b[0;34m\u001b[0m\u001b[0m\n\u001b[1;32m   1323\u001b[0m         \u001b[0;32mexcept\u001b[0m\u001b[0;34m:\u001b[0m\u001b[0;34m\u001b[0m\u001b[0;34m\u001b[0m\u001b[0m\n",
            "\u001b[0;31mURLError\u001b[0m: <urlopen error [Errno -3] Temporary failure in name resolution>"
          ]
        }
      ]
    },
    {
      "cell_type": "code",
      "metadata": {
        "execution": {
          "iopub.execute_input": "2021-01-05T21:16:29.493031Z",
          "iopub.status.busy": "2021-01-05T21:16:29.492213Z",
          "iopub.status.idle": "2021-01-05T21:16:30.135224Z",
          "shell.execute_reply": "2021-01-05T21:16:30.134254Z"
        },
        "papermill": {
          "duration": 0.660558,
          "end_time": "2021-01-05T21:16:30.135339",
          "exception": false,
          "start_time": "2021-01-05T21:16:29.474781",
          "status": "completed"
        },
        "tags": [],
        "id": "7uz4YEzwZtQV"
      },
      "source": [
        "!mkdir /kaggle/working/weights"
      ],
      "execution_count": null,
      "outputs": []
    },
    {
      "cell_type": "code",
      "metadata": {
        "_kg_hide-output": true,
        "execution": {
          "iopub.execute_input": "2021-01-05T21:16:30.169984Z",
          "iopub.status.busy": "2021-01-05T21:16:30.169295Z",
          "iopub.status.idle": "2021-01-05T21:16:30.575061Z",
          "shell.execute_reply": "2021-01-05T21:16:30.575550Z"
        },
        "papermill": {
          "duration": 0.42678,
          "end_time": "2021-01-05T21:16:30.575690",
          "exception": false,
          "start_time": "2021-01-05T21:16:30.148910",
          "status": "completed"
        },
        "tags": [],
        "id": "XS39MLB3ZtQV",
        "outputId": "4f62f7b3-ab99-4453-9881-88d21c5fdadc"
      },
      "source": [
        "weights_path = Path(f\"/kaggle/working/weights\")\n",
        "\n",
        "checkpoint_callback = ModelCheckpoint(\n",
        "    dirpath=weights_path,\n",
        "    save_weights_only=True,\n",
        "    monitor=\"val_acc\",\n",
        "    mode=\"max\",\n",
        "    save_last=True,\n",
        "    filename=f\"{fold_id}\",\n",
        ")\n",
        "trainer = pl.Trainer(\n",
        "    gpus=1,\n",
        "    callbacks=[checkpoint_callback],\n",
        "    max_epochs=epochs,\n",
        "    gradient_clip_val=gradient_clip_val,\n",
        "    precision=precision,\n",
        "   )\n",
        "\n",
        "trainer.fit(model=model, datamodule=data_module)"
      ],
      "execution_count": null,
      "outputs": [
        {
          "output_type": "stream",
          "text": [
            "GPU available: True, used: True\n",
            "TPU available: False, using: 0 TPU cores\n",
            "LOCAL_RANK: 0 - CUDA_VISIBLE_DEVICES: [0]\n",
            "Using native 16bit precision.\n"
          ],
          "name": "stderr"
        },
        {
          "output_type": "error",
          "ename": "NameError",
          "evalue": "name 'model' is not defined",
          "traceback": [
            "\u001b[0;31m---------------------------------------------------------------------------\u001b[0m",
            "\u001b[0;31mNameError\u001b[0m                                 Traceback (most recent call last)",
            "\u001b[0;32m<ipython-input-12-b1b373e54094>\u001b[0m in \u001b[0;36m<module>\u001b[0;34m\u001b[0m\n\u001b[1;32m     17\u001b[0m    )\n\u001b[1;32m     18\u001b[0m \u001b[0;34m\u001b[0m\u001b[0m\n\u001b[0;32m---> 19\u001b[0;31m \u001b[0mtrainer\u001b[0m\u001b[0;34m.\u001b[0m\u001b[0mfit\u001b[0m\u001b[0;34m(\u001b[0m\u001b[0mmodel\u001b[0m\u001b[0;34m=\u001b[0m\u001b[0mmodel\u001b[0m\u001b[0;34m,\u001b[0m \u001b[0mdatamodule\u001b[0m\u001b[0;34m=\u001b[0m\u001b[0mdata_module\u001b[0m\u001b[0;34m)\u001b[0m\u001b[0;34m\u001b[0m\u001b[0;34m\u001b[0m\u001b[0m\n\u001b[0m",
            "\u001b[0;31mNameError\u001b[0m: name 'model' is not defined"
          ]
        }
      ]
    },
    {
      "cell_type": "markdown",
      "metadata": {
        "papermill": {
          "duration": 0.01449,
          "end_time": "2021-01-05T21:16:30.605532",
          "exception": false,
          "start_time": "2021-01-05T21:16:30.591042",
          "status": "completed"
        },
        "tags": [],
        "id": "cNNs1W2fZtQW"
      },
      "source": [
        "## Further improvements\n",
        "\n",
        "You can increase the number of epochs to get further improvement. Also, right now I just ran on 1-fold, you can run multiple folds to get better score. You can play with hyperparameters and augmentations as well.\n",
        "\n",
        "With same code I was able to reach 0.895 with a single fold on leaderboard.\n",
        "We have completed the training pipeline here. \n",
        "I will show inference in another kernel.[Link to be added]\n",
        "\n",
        "Hope you liked the notebook."
      ]
    },
    {
      "cell_type": "markdown",
      "metadata": {
        "id": "1A5UPaJdoat1"
      },
      "source": [
        "# Havenize"
      ]
    },
    {
      "cell_type": "markdown",
      "metadata": {
        "id": "lFd1lovSaIhx"
      },
      "source": [
        "## exp_config"
      ]
    },
    {
      "cell_type": "code",
      "metadata": {
        "id": "MjHf9aDraK4X"
      },
      "source": [
        "# cross validation\r\n",
        "fold_id = 0\r\n",
        "aug_p = 0.5\r\n",
        "\r\n",
        "# trainer\r\n",
        "gradient_clip_val = 0.1\r\n",
        "precision = 16\r\n",
        "\r\n",
        "\r\n",
        "from haven import haven_utils as hu\r\n",
        "\r\n",
        "EXP_GROUPS = {}\r\n",
        "EXP_GROUPS['cassava'] = hu.cartesian_exp_group({'dataset': {'name': 'cassava', 'image_size': 224,},\r\n",
        "                          'batch_size': 64,\r\n",
        "                          'max_epoch': 5,\r\n",
        "                          # 'data_size': {},\r\n",
        "                          'model': {'name':'resnext50_32x4d_ssl', \r\n",
        "                                    'loss':'cross_entropy',\r\n",
        "                                    'n_classes': 5,\r\n",
        "                                    # data_path no need in haven\r\n",
        "                                    },\r\n",
        "                          'optimizer': {'name': 'adamW', 'wd': 1e-6, 'lr': 1e-4,},\r\n",
        "                          }）\r\n",
        "\r\n"
      ],
      "execution_count": null,
      "outputs": []
    },
    {
      "cell_type": "markdown",
      "metadata": {
        "id": "rTmAyBPUgTPv"
      },
      "source": [
        "## src"
      ]
    },
    {
      "cell_type": "markdown",
      "metadata": {
        "id": "oQgzZ1QRgVge"
      },
      "source": [
        "### models"
      ]
    },
    {
      "cell_type": "code",
      "metadata": {
        "id": "UffC3NADgbav"
      },
      "source": [
        "def get_model(model_dict, exp_dict=None, train_set=None):\r\n",
        "  raise NotImplementedError\r\n",
        "\r\n",
        "class Model(nn.Module):\r\n",
        "    def __init__(self, exp_dict, device):\r\n",
        "      super().__init__()\r\n",
        "      self.exp_dict = exp_dict\r\n",
        "\r\n",
        "      # define model\r\n",
        "      model_dict = self.exp_dict['model']\r\n",
        "      self.model = Resnext(name=model_dict['name'], num_classes=model_dict['n_classes'])\r\n",
        "      if model_dict['loss'] == 'cross_entropy':\r\n",
        "        self.loss_fn = torch.nn.CrossEntropyLoss()\r\n",
        "\r\n",
        "      # define optimizer\r\n",
        "      opt_dict = self.exp_dict['opt']\r\n",
        "      if opt_dict['name'] == 'adamW':\r\n",
        "        self.optimizer = torch.optim.AdamW(\r\n",
        "            self.model.parameters(), lr=opt_dict['lr'], weight_decay=opt_dict['wd']\r\n",
        "        )\r\n",
        "       \r\n",
        "      self.device = device\r\n",
        "\r\n",
        "\r\n",
        "# todo: not complete\r\n",
        "class Resnext(nn.Module):\r\n",
        "    def __init__(\r\n",
        "        self,\r\n",
        "        model_name=\"resnet18_ssl\",\r\n",
        "        pool_type=F.adaptive_avg_pool2d,\r\n",
        "        num_classes=1000,\r\n",
        "    ):\r\n",
        "        super().__init__()\r\n",
        "        self.pool_type = pool_type\r\n",
        "\r\n",
        "        backbone = torch.hub.load(\r\n",
        "                \"facebookresearch/semi-supervised-ImageNet1K-models\", model_name\r\n",
        "            )\r\n",
        "        list(backbone.children())[:-2]\r\n",
        "        self.backbone = nn.Sequential(*list(backbone.children())[:-2])\r\n",
        "        in_features = getattr(backbone, \"fc\").in_features\r\n",
        "        self.classifier = nn.Linear(in_features, num_classes)\r\n",
        "\r\n",
        "    def forward(self, x):\r\n",
        "        features = self.pool_type(self.backbone(x), 1)\r\n",
        "        features = features.view(x.size(0), -1)\r\n",
        "        return self.classifier(features)\r\n",
        "\r\n",
        "    # todo\r\n",
        "    def train_on_loader():\r\n",
        "      return 0\r\n",
        "\r\n",
        "    # todo\r\n",
        "    def val_on_loader():\r\n",
        "      return 0\r\n",
        "\r\n",
        "    def load_state_dict(self, state_dict):\r\n",
        "      self.model.load_state_dict(state_dict['model'])\r\n",
        "      if 'opt' not in state_dict:\r\n",
        "        return\r\n",
        "      self.optimizer.load_state_dict(state_dict['opt'])\r\n",
        "      return 0\r\n",
        "\r\n",
        "    def get_state_dict(self):\r\n",
        "      return {'model': self.model.state_dict(), \r\n",
        "              'opt': self.optimizer.state_dict()}\r\n",
        "      \r\n"
      ],
      "execution_count": null,
      "outputs": []
    },
    {
      "cell_type": "markdown",
      "metadata": {
        "id": "gpCcnnQhgXMO"
      },
      "source": [
        "### datasets"
      ]
    },
    {
      "cell_type": "code",
      "metadata": {
        "id": "iPx9ZXiUoYQh"
      },
      "source": [
        "def get_dataset(dataset_name, split, datadir, num_workers=0):\r\n",
        "  if dataset_name == 'cassava':\r\n",
        "    dataset = CassavaDataset(datadir, split, num_workers)\r\n",
        "  else:\r\n",
        "    raise ValueError('dataset %s not found' % dataset_name)\r\n",
        "  \r\n",
        "  return dataset\r\n",
        "\r\n",
        "class CassavaDataset(Dataset):\r\n",
        "    def __init__(self, datadir_base, split, num_workers, transform=None) -> None:\r\n",
        "        super().__init__()\r\n",
        "        self.datadir_base = datadir_base\r\n",
        "        self.transform = transform\r\n",
        "        self.num_workers = num_workers\r\n",
        "\r\n",
        "        # todo: figure out how to split the train and val set\r\n",
        "        if split == 'train':\r\n",
        "          df_path = os.path.join(datadir_base, \"train.csv\")\r\n",
        "          data_path = os.path.join(datadir_base, \"train_images\")\r\n",
        "          df = pd.read_csv(df_path)\r\n",
        "        elif split == 'val':\r\n",
        "          df_path = os.path.join(datadir_base, \"train.csv\")\r\n",
        "          data_path = os.path.join(datadir_base, \"train_images\")\r\n",
        "          df = pd.read_csv(df_path)\r\n",
        "        elif split == 'test':\r\n",
        "          df_path = os.path.join(datadir_base, \"sample_submission.csv\")\r\n",
        "          data_path = os.path.join(datadir_base, \"test_images\")\r\n",
        "          df = pd.read_csv(df_path)\r\n",
        "        \r\n",
        "        self.data_path = data_path\r\n",
        "        self.df = df\r\n",
        "\r\n",
        "    def __getitem__(self, index) -> Tuple[PILImage, int]:\r\n",
        "        img_id, label = self.df.iloc[index]\r\n",
        "        img_path = os.path.join(self.data_path, img_id)\r\n",
        "        image = Image.open(img_path)\r\n",
        "        image = np.array(image)\r\n",
        "        if self.transform is not None:\r\n",
        "            transformed = self.transform(image=image)\r\n",
        "            image = transformed[\"image\"]\r\n",
        "        return image, label\r\n",
        "\r\n",
        "    def __len__(self):\r\n",
        "        return self.df.shape[0]"
      ],
      "execution_count": null,
      "outputs": []
    },
    {
      "cell_type": "markdown",
      "metadata": {
        "id": "2Jceva8Jqv8_"
      },
      "source": [
        "## train_val"
      ]
    },
    {
      "cell_type": "code",
      "metadata": {
        "id": "5LJrfP8kqyh9"
      },
      "source": [
        "import argparse\r\n",
        "\r\n",
        "from haven import haven_wizard as hw\r\n",
        "from haven import haven_utils as hu\r\n",
        "\r\n",
        "# from src import datasets, models\r\n",
        "\r\n",
        "\r\n",
        "def trainval(exp_dict, savedir, args):\r\n",
        "    \"\"\"\r\n",
        "    exp_dict: dictionary defining the hyperparameters of the experiment\r\n",
        "    savedir: the directory where the experiment will be saved\r\n",
        "    args: arguments passed through the command line\r\n",
        "    \"\"\"\r\n",
        "    # -- Datasets\r\n",
        "    train_set = datasets.get_dataset(dataset_name=exp_dict[\"dataset\"],\r\n",
        "                                     split='train',\r\n",
        "                                     datadir=args.datadir)\r\n",
        "\r\n",
        "    val_set = datasets.get_dataset(dataset_name=exp_dict[\"dataset\"],\r\n",
        "                                   split='val',\r\n",
        "                                   datadir=args.datadir)\r\n",
        "    \r\n",
        "    test_set = datasets.get_dataset(dataset_name=exp_dict[\"dataset\"],\r\n",
        "                                   split='test',\r\n",
        "                                   datadir=args.datadir)\r\n",
        "\r\n",
        "    # -- Model\r\n",
        "    model = models.Model(exp_dict, device=torch.device('cuda'))\r\n",
        "\r\n",
        "    # -- Train & Val Loop\r\n",
        "    score_list = []\r\n",
        "    for e in range(0, 50):\r\n",
        "        # Compute metrics\r\n",
        "        score_dict = {\"epoch\": e}\r\n",
        "        score_dict[\"train_loss\"] = model.val_on_dataset(\r\n",
        "            train_set, metric_name='softmax_loss')\r\n",
        "        score_dict[\"val_acc\"] = model.val_on_dataset(\r\n",
        "            val_set, metric_name='softmax_acc')\r\n",
        "        score_list += [score_dict]\r\n",
        "\r\n",
        "        # Train model for one epoch\r\n",
        "        model.train_on_dataset(train_set)\r\n",
        "\r\n",
        "        # Visualize\r\n",
        "        # images = model.vis_on_dataset(\r\n",
        "        #     val_set, fname=os.path.join(savedir, 'images', 'results.png'))\r\n",
        "\r\n",
        "        # Report & Save\r\n",
        "        score_df = pd.DataFrame(score_list)\r\n",
        "        print(\"\\n\", score_df.tail(), \"\\n\")\r\n",
        "        hu.save_pkl(os.path.join(savedir, 'score_list.pkl'), score_list)\r\n",
        "        hu.torch_save(os.path.join(savedir, 'model.pth'), model.state_dict())\r\n",
        "        print(\"Checkpoint Saved: %s\" % savedir)\r\n",
        "\r\n",
        "    print('Experiment completed et epoch %d' % e)\r\n",
        "\r\n",
        "    # test and output result\r\n",
        "    for batch in test_set:\r\n",
        "        x, y, img_id = batch\r\n",
        "        y_hat = model(x)\r\n",
        "        _, pred = torch.max(y_hat, 1)\r\n",
        "\r\n",
        "        path = \"submission.csv\"\r\n",
        "        if not os.path.exists(path):\r\n",
        "            with open(path, \"w\") as f:\r\n",
        "                f.write(\"image_id,label\\n\")\r\n",
        "                \r\n",
        "        with open(path, \"a\") as f:\r\n",
        "            f.write(results)\r\n",
        "\r\n",
        "\r\n",
        "if __name__ == \"__main__\":\r\n",
        "    # -- Create Parser\r\n",
        "    parser = argparse.ArgumentParser()\r\n",
        "\r\n",
        "    # Exp Arguments\r\n",
        "    parser.add_argument('-e', '--exp_group_list', nargs=\"+\")\r\n",
        "    parser.add_argument(\"-ei\", \"--exp_id\", default=None)\r\n",
        "\r\n",
        "    # Savedir Arguments\r\n",
        "    parser.add_argument('-sb', '--savedir_base', required=True)\r\n",
        "    parser.add_argument('-d', '--datadir', required=True)\r\n",
        "\r\n",
        "    # Others\r\n",
        "    parser.add_argument(\"-r\", \"--reset\", default=0, type=int)\r\n",
        "    parser.add_argument(\"-j\", \"--run_jobs\", default=0, type=int)\r\n",
        "    parser.add_argument(\"-v\", \"--visualize_notebook\", type=str, default='')\r\n",
        "\r\n",
        "    args, others = parser.parse_known_args()\r\n",
        "\r\n",
        "    # -- Launch Experiments\r\n",
        "\r\n",
        "    # Get Experiment Groups\r\n",
        "    import exp_configs\r\n",
        "    exp_groups = exp_configs.EXP_GROUPS\r\n",
        "    print('Launching exp_group: %s' % args.exp_group_list)\r\n",
        "\r\n",
        "    if os.path.exists('job_configs.py'):\r\n",
        "        import job_configs\r\n",
        "        job_config = job_configs.JOB_CONFIG\r\n",
        "    else:\r\n",
        "        job_config = None\r\n",
        "\r\n",
        "    # Run Selected Experiments\r\n",
        "    hw.run_wizard(func=trainval, exp_groups=exp_groups, args=args, \r\n",
        "                job_config=job_config)"
      ],
      "execution_count": null,
      "outputs": []
    }
  ]
}